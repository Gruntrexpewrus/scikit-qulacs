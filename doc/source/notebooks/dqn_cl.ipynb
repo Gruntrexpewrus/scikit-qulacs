{
 "cells": [
  {
   "cell_type": "markdown",
   "metadata": {},
   "source": [
    "# Toward Trainability of Deep Quantum Neural Networks\n",
    "\n",
    "[[2112.15002] Toward Trainability of Deep Quantum Neural Networks](https://arxiv.org/abs/2112.15002)のscikit-qulacs実装例です。"
   ]
  },
  {
   "cell_type": "markdown",
   "metadata": {},
   "source": [
    "## インポート\n",
    "`scikit-qulacs`の`QNNClassifier`と`create_dqn_cl`をインポートします。`numpy`や`matplotlib.pyplot`等も併せてインポートします。"
   ]
  },
  {
   "cell_type": "code",
   "execution_count": 1,
   "metadata": {},
   "outputs": [],
   "source": [
    "import csv\n",
    "from typing import Tuple\n",
    "\n",
    "import numpy as np\n",
    "from qulacs import Observable\n",
    "from sklearn.metrics import f1_score\n",
    "from sklearn.model_selection import train_test_split\n",
    "\n",
    "from skqulacs.circuit.pre_defined import create_dqn_cl, create_dqn_cl_no_cz\n",
    "from skqulacs.qnn.classifier import QNNClassifier\n",
    "from skqulacs.qnn.solver import Adam\n"
   ]
  },
  {
   "cell_type": "markdown",
   "metadata": {},
   "source": [
    "## テストデータの生成\n",
    "[UCI Machine Learning Repository](https://archive-beta.ics.uci.edu/ml/datasets/wine)を使用してテストデータを生成します。"
   ]
  },
  {
   "cell_type": "code",
   "execution_count": 2,
   "metadata": {},
   "outputs": [],
   "source": [
    "# Use wine dataset retrieved from: https://archive-beta.ics.uci.edu/ml/datasets/wine\n",
    "def load_dataset(\n",
    "    file_path: str, ignore_kind: int, test_ratio: float\n",
    ") -> Tuple[np.array, np.array, np.array, np.array]:\n",
    "    \"\"\"Load dataset from specified path.\n",
    "\n",
    "    Args:\n",
    "        file_path: File path from which data is loaded.\n",
    "        ignore_kind: The dataset expected to have 3 classes and we need 2 classes to test. So specify here which class to ignore in loading.\n",
    "    \"\"\"\n",
    "    x = []\n",
    "    y = []\n",
    "    with open(file_path) as f:\n",
    "        reader = csv.reader(f)\n",
    "        for row in reader:\n",
    "            kind = int(row[0])\n",
    "            if kind == ignore_kind:\n",
    "                continue\n",
    "            y.append(kind)\n",
    "            x.append([float(feature) for feature in row[1:]])\n",
    "\n",
    "    x_train, x_test, y_train, y_test = train_test_split(\n",
    "        x, y, test_size=test_ratio, shuffle=True\n",
    "    )\n",
    "\n",
    "    return x_train, x_test, y_train, y_test\n"
   ]
  },
  {
   "cell_type": "markdown",
   "metadata": {},
   "source": [
    "## 分類回路の作成\n",
    "`QNNClassifier`を使用して分類回路を作成します。\n",
    "第一引数に回路を指定します。第二引数に分類数を指定します。ここでは二値問題のため2を指定してください。  \n",
    "第三引数に探索アルゴリズムを指定します。`Adam`を指定してください。\n",
    "`create_classifier()`の第一引数は量子ビット数を指定してください。第二引数に学習用回路を指定してください。\n",
    "学習用回路はこの後作成します。"
   ]
  },
  {
   "cell_type": "code",
   "execution_count": 3,
   "metadata": {},
   "outputs": [],
   "source": [
    "def create_classifier(n_features, circuit):\n",
    "    # Observables are hard-coded in QNNClassifier, so overwrite here.\n",
    "    classifier = QNNClassifier(circuit, 2, Adam())\n",
    "    classifier.observables = [Observable(n_features) for _ in range(n_features)]\n",
    "    for i in range(n_features):\n",
    "        if i < locality:\n",
    "            classifier.observables[i].add_operator(1.0, f\"Z {i}\")\n",
    "        else:\n",
    "            classifier.observables[i].add_operator(1.0, f\"I {i}\")\n",
    "    return classifier\n"
   ]
  },
  {
   "cell_type": "markdown",
   "metadata": {},
   "source": [
    "## 実行\n",
    "`load_dataset()`を呼び出してテストデータを生成します。\n",
    "`create_dqn_cl()`で学習用回路を作成し、`create_classifier()`に渡して、分類回路を作成します。\n",
    "`qcl.fit()`を実行し学習を行います。  \n",
    "`qcl.predict()`で推論を行います。  \n",
    "`sklearn.metrics`の`f1_score`を使用して結果の精度を計算します。"
   ]
  },
  {
   "cell_type": "code",
   "execution_count": 4,
   "metadata": {},
   "outputs": [
    {
     "name": "stdout",
     "output_type": "stream",
     "text": [
      "CL\n",
      "iteration: 5  score: 0.7855509355509356\n",
      "iteration: 10  score: 0.8769230769230769\n",
      "iteration: 15  score: 0.8925687645687645\n",
      "iteration: 20  score: 0.9080932580932581\n",
      "iteration: 25  score: 0.9235206034052464\n",
      "iteration: 30  score: 0.9387288387288387\n",
      "iteration: 35  score: 0.9541123620431479\n",
      "iteration: 40  score: 0.9541123620431479\n",
      "iteration: 45  score: 0.9541123620431479\n",
      "iteration: 50  score: 0.9541123620431479\n",
      "iteration: 55  score: 0.9541123620431479\n",
      "iteration: 60  score: 0.9846526806526806\n",
      "iteration: 65  score: 0.9846526806526806\n",
      "iteration: 70  score: 0.9846526806526806\n",
      "iteration: 75  score: 0.9846526806526806\n",
      "iteration: 80  score: 0.9846526806526806\n",
      "iteration: 85  score: 0.9846526806526806\n",
      "iteration: 90  score: 0.9846526806526806\n",
      "iteration: 95  score: 0.9846526806526806\n",
      "iteration: 100  score: 0.9846526806526806\n",
      "no CL\n",
      "iteration: 5  score: 0.7861538461538462\n",
      "iteration: 10  score: 0.8451676528599605\n",
      "iteration: 15  score: 0.8925687645687645\n",
      "iteration: 20  score: 0.9076923076923077\n",
      "iteration: 25  score: 0.9076923076923077\n",
      "iteration: 30  score: 0.9076923076923077\n",
      "iteration: 35  score: 0.9076923076923077\n",
      "iteration: 40  score: 0.9076923076923077\n",
      "iteration: 45  score: 0.9228507341714889\n",
      "iteration: 50  score: 0.9228507341714889\n",
      "iteration: 55  score: 0.9228507341714889\n",
      "iteration: 60  score: 0.9228507341714889\n",
      "iteration: 65  score: 0.9228507341714889\n",
      "iteration: 70  score: 0.9384615384615385\n",
      "iteration: 75  score: 0.9539580419580419\n",
      "iteration: 80  score: 0.9539580419580419\n",
      "iteration: 85  score: 0.9539580419580419\n",
      "iteration: 90  score: 0.9539580419580419\n",
      "iteration: 95  score: 0.9539580419580419\n",
      "iteration: 100  score: 0.9539580419580419\n"
     ]
    }
   ],
   "source": [
    "x_train, x_test, y_train, y_test = load_dataset(\"../../../datasets/wine.data\", 3, 0.5)\n",
    "\n",
    "for i in range(len(y_train)):\n",
    "    y_train[i] -= 1\n",
    "for i in range(len(y_test)):\n",
    "    y_test[i] -= 1\n",
    "\n",
    "n_features = 13\n",
    "locality = 2\n",
    "maxiter = 5\n",
    "\n",
    "print(\"CL\")\n",
    "circuit = create_dqn_cl(n_features, 5, locality)\n",
    "classifier = create_classifier(n_features, circuit)\n",
    "result_cl = []\n",
    "loop_size = 80\n",
    "for i in range(loop_size):\n",
    "    classifier.fit(np.array(x_train), np.array(y_train), maxiter)\n",
    "    y_pred = classifier.predict(np.array(x_test))\n",
    "    score = f1_score(y_test, y_pred, average=\"weighted\")\n",
    "    result_cl.append(score)\n",
    "    print(\"iteration:\", (i + 1) * maxiter, \" score:\", score)\n",
    "\n",
    "print(\"no CL\")\n",
    "circuit = create_dqn_cl_no_cz(n_features, 5)\n",
    "classifier = create_classifier(n_features, circuit)\n",
    "result_no_cl = []\n",
    "for i in range(loop_size):\n",
    "    classifier.fit(np.array(x_train), np.array(y_train), maxiter)\n",
    "    y_pred = classifier.predict(np.array(x_test))\n",
    "    score = f1_score(y_test, y_pred, average=\"weighted\")\n",
    "    result_no_cl.append(score)\n",
    "    print(\"iteration:\", (i + 1) * maxiter, \" score:\", score)\n"
   ]
  },
  {
   "cell_type": "code",
   "execution_count": 13,
   "metadata": {},
   "outputs": [
    {
     "data": {
      "image/png": "[encoded data removed]",
      "text/plain": [
       "<Figure size 432x288 with 1 Axes>"
      ]
     },
     "metadata": {
      "needs_background": "light"
     },
     "output_type": "display_data"
    }
   ],
   "source": [
    "import matplotlib.pyplot as plt\n",
    "\n",
    "plt.plot(np.arange(0, loop_size*maxiter, step=maxiter), np.array(result_cl).flatten(), label=\"CL\")\n",
    "plt.plot(np.arange(0, loop_size*maxiter, step=maxiter), np.array(result_no_cl).flatten(), label=\"no CL\")\n",
    "plt.xticks(np.arange(0, loop_size*maxiter, step=maxiter))\n",
    "plt.xlabel(\"iteration\")\n",
    "plt.ylabel(\"score\")\n",
    "plt.legend()\n",
    "plt.show()\n"
   ]
  },
  {
   "cell_type": "markdown",
   "metadata": {},
   "source": [
    "CLレイヤをつけた回路の方が速く学習が進みます。"
   ]
  }
 ],
 "metadata": {
  "kernelspec": {
   "display_name": "Python 3.10.4 64-bit ('3.10.4')",
   "language": "python",
   "name": "python3"
  },
  "language_info": {
   "codemirror_mode": {
    "name": "ipython",
    "version": 3
   },
   "file_extension": ".py",
   "mimetype": "text/x-python",
   "name": "python",
   "nbconvert_exporter": "python",
   "pygments_lexer": "ipython3",
   "version": "3.10.4"
  },
  "orig_nbformat": 4,
  "vscode": {
   "interpreter": {
    "hash": "84aa2c67dae1159a9469e7ac93262a46ff5158e6dcd4abab35ce17cbce36ce1e"
   }
  }
 },
 "nbformat": 4,
 "nbformat_minor": 2
}
