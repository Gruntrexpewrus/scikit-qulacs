{
 "cells": [
  {
   "cell_type": "markdown",
   "metadata": {},
   "source": [
    "---\n",
    "header-includes:\n",
    "  - \\usepackage{braket}\n",
    "---\n",
    "\n",
    "# 1.1 LaTeX Example\n",
    "$\\LaTeX$ is available:\n",
    "$$\\bra{\\psi} = \\alpha\\bra{0} + \\beta\\ket{1}$$"
   ]
  },
  {
   "cell_type": "markdown",
   "metadata": {},
   "source": [
    "```\n",
    "---\n",
    "header-includes:\n",
    "  - \\usepackage{braket}\n",
    "---\n",
    "```\n",
    "\n",
    "をどこかの Markdown セル(先頭が無難)に書くと `\\usepackage` できるようになります．\n",
    "Qulacs のドキュメントでは量子状態を `|0\\rangle` などと書いていますが($|0\\rangle$)，braket パッケージを使って `\\ket{0}` と書いたほうが分かりやすいです($\\ket{0}$)．\n",
    "縦に大きいときは `\\Ket{\\frac{A}{B}}` のように一文字目を大文字にすると\n",
    "$$\\Ket{\\frac{A}{B}}$$\n",
    "というふうに，カッコをいい感じの高さに調節してくれます．"
   ]
  },
  {
   "cell_type": "markdown",
   "metadata": {},
   "source": [
    "$$\\braket{\\phi|\\psi}$$"
   ]
  }
 ],
 "metadata": {
  "language_info": {
   "name": "python"
  },
  "orig_nbformat": 4
 },
 "nbformat": 4,
 "nbformat_minor": 2
}
