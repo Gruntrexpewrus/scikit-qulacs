{
 "cells": [
  {
   "cell_type": "markdown",
   "metadata": {},
   "source": [
    "# scikit-qulacs チュートリアル\n",
    "\n",
    "## scikit-qulacs とは \n",
    "\n",
    "量子回路シミュレータ [Qulacs-Osaka](https://github.com/Qulacs-Osaka/qulacs-osaka) ([Qulacs](https://github.com/qulacs/qulacs) の大阪大学バージョン) をバックエンドとした量子機械学習アルゴリズムのシミュレータです。scikit-learn の名前をもじっています。"
   ]
  },
  {
   "cell_type": "markdown",
   "metadata": {},
   "source": [
    "## インストール\n",
    "PyPI からインストールできます。\n",
    "```\n",
    "pip install skqulacs\n",
    "```"
   ]
  },
  {
   "cell_type": "markdown",
   "metadata": {},
   "source": [
    "## Quantum neural network\n",
    "入力データ ${\\boldsymbol x}$ に対して、学習パラメータ ${\\boldsymbol \\theta}$ を使って\n",
    "$$y_{{\\boldsymbol \\theta}}({\\boldsymbol x}) = \\langle 0|U^\\dagger({\\boldsymbol \\theta}, {\\boldsymbol x}) O U({\\boldsymbol \\theta}, {\\boldsymbol x})|0\\rangle$$\n",
    "の形でモデル $y_{{\\boldsymbol \\theta}}({\\boldsymbol x})$ を構築する手法を量子ニューラルネットワークと呼びます。scikit-qulacs では `skqulacs.qnn` モジュールに実装されています。分類問題をとく `skqulacs.qnn.classifier` と回帰問題を解く `skqulacs.qnn.regressor` の２つがあります。"
   ]
  },
  {
   "cell_type": "markdown",
   "metadata": {},
   "source": [
    "### `skqulacs.qnn.QNNClassifier` の使い方\n",
    "例として、有名な `iris` データセットを分類する量子ニューラルネットワークを組んでみます。まず、以下のコードによって `scikit-learn` から `iris` データセットを取り出し、訓練データとテストデータに分けます。"
   ]
  },
  {
   "cell_type": "code",
   "execution_count": 3,
   "metadata": {},
   "outputs": [],
   "source": [
    "import pandas as pd\n",
    "from sklearn import datasets\n",
    "from sklearn.model_selection import train_test_split\n",
    "\n",
    "iris = datasets.load_iris()\n",
    "df = pd.DataFrame(iris.data, columns=iris.feature_names)\n",
    "x = df.loc[:, [\"petal length (cm)\", \"petal width (cm)\"]]\n",
    "x_train, x_test, y_train, y_test = train_test_split(\n",
    "    x, iris.target, test_size=0.25, random_state=0\n",
    ")\n",
    "x_train = x_train.to_numpy()\n",
    "x_test = x_test.to_numpy()"
   ]
  },
  {
   "cell_type": "markdown",
   "metadata": {},
   "source": [
    "変数はそれぞれ\n",
    "- `x_train`: 訓練データの入力\n",
    "- `y_train`: 訓練データのラベル\n",
    "- `x_test`: テストデータの入力\n",
    "- `y_test`: テストデータのラベル\n",
    "\n",
    "です。"
   ]
  },
  {
   "cell_type": "markdown",
   "metadata": {},
   "source": [
    "次に簡単な量子回路によってこれらの分類を行ってみます。"
   ]
  },
  {
   "cell_type": "code",
   "execution_count": 4,
   "metadata": {},
   "outputs": [
    {
     "name": "stdout",
     "output_type": "stream",
     "text": [
      "trained parameters [ 1.85410272  3.75676148  2.21646191  2.52509231  2.1647195   2.43798985\n",
      "  1.50367222  0.04751448  2.54785017  2.13940606  4.98429799  4.14497582\n",
      "  5.47831644  4.83193472  1.52245352  4.56050188  2.51816388  1.40210201\n",
      "  3.95273519  1.34362204  0.89885804  4.01058809  2.8836804   1.50820136\n",
      "  5.51325943  0.47711481  3.44328084  3.65547664 -0.55173648  6.3383248\n",
      "  0.66032895  5.16735433 -1.04875626  6.14244395  6.99287629  1.31751974\n",
      "  0.19759514  4.00321349  3.90846605  1.9431826   0.53312599  3.28469292\n",
      "  6.0037434   4.20836194  1.83071748]\n",
      "loss 0.0860431460366711\n"
     ]
    }
   ],
   "source": [
    "from skqulacs.circuit.pre_defined import create_qcl_ansatz\n",
    "from skqulacs.qnn import QNNClassifier\n",
    "\n",
    "nqubit = 5                      # qubitの数。必要とする入力、出力の次元数以上が必要である。\n",
    "c_depth = 3                     # circuitの深さ。ニューラルネットワークでの隠れ層に対応する。\n",
    "time_step = 1.                  # qcl_ansatz に必要となるパラメータ。横磁場イジングモデルによって発展させる時間を決める。\n",
    "num_class = 3                   # 分類数（ここでは3つの品種に分類）\n",
    "solver=\"BFGS\"                   # アルゴリズム。ほかには、\"Adam\" が使える。\n",
    "maxiter = 20                    # ループの最大。これが多いほど、正確になるが、時間がかかる。\n",
    "circuit = create_qcl_ansatz(nqubit, c_depth, time_step)     # LearningCircuitを作る\n",
    "qcl = QNNClassifier(circuit, num_class, solver)     # モデル構築を行う\n",
    "opt_loss, opt_params = qcl.fit(x_train, y_train, maxiter)                          # 学習\n",
    "print(\"trained parameters\", opt_params)\n",
    "print(\"loss\", opt_loss)"
   ]
  },
  {
   "cell_type": "markdown",
   "metadata": {},
   "source": [
    "テストデータと比べて結果を出力します。"
   ]
  },
  {
   "cell_type": "code",
   "execution_count": 5,
   "metadata": {},
   "outputs": [
    {
     "name": "stdout",
     "output_type": "stream",
     "text": [
      "0.9473684210526315\n"
     ]
    }
   ],
   "source": [
    "from sklearn.metrics import f1_score\n",
    "y_pred = qcl.predict(x_test)\n",
    "print(f1_score(y_test, y_pred, average=\"weighted\"))"
   ]
  },
  {
   "cell_type": "markdown",
   "metadata": {},
   "source": [
    "うまく分類できていることがわかります。"
   ]
  },
  {
   "cell_type": "markdown",
   "metadata": {},
   "source": [
    "### `skqulacs.qnn.QNNRegressor` の使い方\n",
    "回帰問題を解くには `QNNRegressor` を使います。ここでは $y=\\sin(\\pi x)$ を学習させてみます。まずデータセットを作ります。"
   ]
  },
  {
   "cell_type": "code",
   "execution_count": 6,
   "metadata": {},
   "outputs": [],
   "source": [
    "import numpy as np\n",
    "from numpy.random import default_rng\n",
    "\n",
    "def generate_noisy_sine(x_min, x_max, num_x):\n",
    "    rng = default_rng(0)\n",
    "    x_train = [[rng.uniform(x_min, x_max)] for _ in range(num_x)]\n",
    "    y_train = [np.sin(np.pi*x[0]) for x in x_train]\n",
    "    mag_noise = 0.01\n",
    "    y_train += mag_noise * rng.random(num_x)\n",
    "    return x_train, y_train\n",
    "  \n",
    "x_min = -1.0\n",
    "x_max = 1.0\n",
    "num_x = 80\n",
    "x_train, y_train = generate_noisy_sine(x_min, x_max, num_x)\n",
    "x_test, y_test = generate_noisy_sine(x_min, x_max, num_x)"
   ]
  },
  {
   "cell_type": "markdown",
   "metadata": {},
   "source": [
    "作成したデータに対して学習を行います。"
   ]
  },
  {
   "cell_type": "code",
   "execution_count": 7,
   "metadata": {},
   "outputs": [
    {
     "name": "stdout",
     "output_type": "stream",
     "text": [
      "[-2.52118172e-03  1.19277020e-03  3.10128326e-04 -6.42683364e-04\n",
      "  8.35436474e-04 -5.24981892e-04 -7.52008036e-04 -4.07462371e-04\n",
      " -5.74044155e-04  1.50774930e-03  6.30109294e-05 -8.19459615e-04\n",
      "  1.42078707e-03  2.09110696e-03 -3.36846534e-04  4.88690753e-04\n",
      "  7.46908451e-05 -2.22482857e-04 -9.25977438e-04 -9.12545452e-05\n",
      "  1.04324965e-03 -5.63038944e-04 -4.62934646e-04 -3.62787336e-04\n",
      " -8.51174859e-04  2.90978510e-03  1.96177705e-03  6.80510436e-05\n",
      "  1.69540322e-04  3.45813053e-04  3.20652348e-04 -2.24440888e-04\n",
      " -5.65850928e-05 -7.10191967e-04  5.10276819e-04  7.51022395e-04\n",
      "  1.50621087e-03 -1.01846464e-03 -8.74319743e-04  3.54710895e-17\n",
      "  3.59299055e-17  3.59218882e-17  3.58373194e-17  3.59945889e-17\n",
      "  3.55306677e-17  3.67906416e-17  3.59392206e-17  3.58473687e-17]\n",
      "trained parameters [ 4.76002724  1.92362022 -0.48900136  0.35047068  4.82948963  6.46225974\n",
      "  3.40609952  5.00474857  3.37636039  6.31050608  5.49376378  0.139052\n",
      "  5.47590209  0.64912218  4.67870237  1.41841969  5.53849844  3.7883166\n",
      "  1.84668854  2.68946397  0.04043366  0.96776472  4.49352776  3.60008095\n",
      "  3.88877639  2.58504726  6.23553393  6.16278554  4.24511007  3.92287119\n",
      "  4.33309344  2.56906654  0.6973149   4.8681623   3.38829756  1.61272237\n",
      "  3.30808541  5.46822145  5.94478902  2.24809352  3.59102784  2.02236503\n",
      "  3.73409722  2.12315885  2.46061475  5.59375873  1.42727325  3.91560031]\n",
      "loss 0.008518100629961275\n"
     ]
    }
   ],
   "source": [
    "from skqulacs.qnn import QNNRegressor\n",
    "\n",
    "n_qubit = 4\n",
    "depth = 4\n",
    "time_step = 0.5\n",
    "solver=\"BFGS\"\n",
    "maxiter=20\n",
    "circuit = create_qcl_ansatz(n_qubit, depth, time_step, 0)\n",
    "qnn = QNNRegressor(circuit, solver)\n",
    "opt_loss, opt_params = qnn.fit(x_train, y_train, maxiter)\n",
    "print(\"trained parameters\", opt_params)\n",
    "print(\"loss\", opt_loss)"
   ]
  },
  {
   "cell_type": "markdown",
   "metadata": {},
   "source": [
    "訓練したモデルとテストデータを並べてプロットしてみます。"
   ]
  },
  {
   "cell_type": "code",
   "execution_count": 9,
   "metadata": {},
   "outputs": [
    {
     "data": {
      "image/png": "[encoded data removed]",
      "text/plain": [
       "<Figure size 432x288 with 1 Axes>"
      ]
     },
     "metadata": {
      "needs_background": "light"
     },
     "output_type": "display_data"
    }
   ],
   "source": [
    "import matplotlib.pyplot as plt\n",
    "y_pred = qnn.predict(x_test)\n",
    "plt.plot(x_test, y_test, \"o\", label=\"Test\")\n",
    "plt.plot(np.sort(np.array(x_test).flatten()), np.array(y_pred)[np.argsort(np.array(x_test).flatten())], label=\"Prediction\")\n",
    "plt.legend()\n",
    "plt.show()"
   ]
  },
  {
   "cell_type": "markdown",
   "metadata": {},
   "source": [
    "よく学習できていることがわかります。"
   ]
  },
  {
   "cell_type": "markdown",
   "metadata": {},
   "source": [
    "## 量子カーネル法\n",
    "入力データ ${\\boldsymbol x}$ を量子状態 $|\\psi({\\boldsymbol x})\\rangle$ にマップし、この量子状態間の内積で定義されるカーネル関数\n",
    "$$K({\\boldsymbol x},{\\boldsymbol x}')=|\\langle \\psi({\\boldsymbol x})| \\psi({\\boldsymbol x}')\\rangle|^2$$\n",
    "を使ったカーネル法を量子カーネル法と呼びます。scikit-qulacs には、support vector classifier `skqulacs.qsvm.QSVC` と support vector regressor `skqulacs.qsvm.QSVR` の2つが実装されています。"
   ]
  },
  {
   "cell_type": "markdown",
   "metadata": {},
   "source": [
    "### `skqulacs.qsvm.QSVC` の使い方\n",
    "ここでは IBM のグループが論文 [Supervised learning with quantum-enhanced feature spaces](https://www.nature.com/articles/s41586-019-0980-2) で提案した $|\\psi({\\boldsymbol x})\\rangle$ を使った分類を行います。この状態を作る量子回路は `skqulacs.circuit.create_ibm_embedding_circuit` によって作り出せます。\n",
    "\n",
    "まずデータセットを準備します。"
   ]
  },
  {
   "cell_type": "code",
   "execution_count": 10,
   "metadata": {},
   "outputs": [],
   "source": [
    "iris = datasets.load_iris()\n",
    "df = pd.DataFrame(iris.data, columns=iris.feature_names)\n",
    "x = df.loc[:, [\"petal length (cm)\", \"petal width (cm)\"]]\n",
    "x_train, x_test, y_train, y_test = train_test_split(\n",
    "    x, iris.target, test_size=0.25, random_state=0\n",
    ")\n",
    "x_train = x_train.to_numpy()\n",
    "x_test = x_test.to_numpy()"
   ]
  },
  {
   "cell_type": "markdown",
   "metadata": {},
   "source": [
    "回路を作成し、QSVC を訓練、予測値を出力させます。"
   ]
  },
  {
   "cell_type": "code",
   "execution_count": 11,
   "metadata": {},
   "outputs": [],
   "source": [
    "from skqulacs.circuit import create_ibm_embedding_circuit\n",
    "from skqulacs.qsvm import QSVC\n",
    "n_qubit = 4                         # x_train の次元数以上必要。あまり小さいと結果が悪くなる。\n",
    "circuit = create_ibm_embedding_circuit(n_qubit)\n",
    "qsvm = QSVC(circuit)\n",
    "qsvm.fit(x_train, y_train)\n",
    "y_pred = qsvm.predict(x_test)"
   ]
  },
  {
   "cell_type": "markdown",
   "metadata": {},
   "source": [
    "評価してみます。"
   ]
  },
  {
   "cell_type": "code",
   "execution_count": 12,
   "metadata": {},
   "outputs": [
    {
     "name": "stdout",
     "output_type": "stream",
     "text": [
      "0.8978070175438595\n"
     ]
    }
   ],
   "source": [
    "print(f1_score(y_test, y_pred, average=\"weighted\"))"
   ]
  },
  {
   "cell_type": "markdown",
   "metadata": {},
   "source": [
    "qnn よりも悪い結果となりました。回路形がこのデータセットに適していないからだと考えられます。"
   ]
  },
  {
   "cell_type": "markdown",
   "metadata": {},
   "source": [
    "### `skqulacs.qsvm.QSVR` の使い方\n",
    "同様の回路を使い、回帰を行ってみます。QNN の場合と同様に、$\\sin(\\pi x)$ を学習します。まずデータセットを作ります。"
   ]
  },
  {
   "cell_type": "code",
   "execution_count": 13,
   "metadata": {},
   "outputs": [],
   "source": [
    "x_min = -1.0\n",
    "x_max = 1.0\n",
    "num_x = 1000\n",
    "x_train, y_train = generate_noisy_sine(x_min, x_max, num_x)\n",
    "x_test, y_test = generate_noisy_sine(x_min, x_max, num_x)"
   ]
  },
  {
   "cell_type": "markdown",
   "metadata": {},
   "source": [
    "学習します。"
   ]
  },
  {
   "cell_type": "code",
   "execution_count": 14,
   "metadata": {},
   "outputs": [],
   "source": [
    "from skqulacs.qsvm import QSVR\n",
    "n_qubit = 4                         # x_train の次元数以上必要。あまり小さいと結果が悪くなる。\n",
    "circuit = create_ibm_embedding_circuit(n_qubit)\n",
    "qsvm = QSVR(circuit)\n",
    "qsvm.fit(x_train, y_train)\n",
    "y_pred = qsvm.predict(x_test)"
   ]
  },
  {
   "cell_type": "markdown",
   "metadata": {},
   "source": [
    "学習結果をプロットしてみます。"
   ]
  },
  {
   "cell_type": "code",
   "execution_count": 15,
   "metadata": {},
   "outputs": [
    {
     "data": {
      "image/png": "[encoded data removed]",
      "text/plain": [
       "<Figure size 432x288 with 1 Axes>"
      ]
     },
     "metadata": {
      "needs_background": "light"
     },
     "output_type": "display_data"
    }
   ],
   "source": [
    "plt.plot(x_test, y_test, \"o\", label=\"Test\")\n",
    "plt.plot(np.sort(np.array(x_test).flatten()), np.array(y_pred)[np.argsort(np.array(x_test).flatten())], label=\"Prediction\")\n",
    "plt.legend()\n",
    "plt.show()"
   ]
  },
  {
   "cell_type": "markdown",
   "metadata": {},
   "source": [
    "うまく学習できています。"
   ]
  },
  {
   "cell_type": "markdown",
   "metadata": {},
   "source": [
    "## 用意されている量子回路\n",
    "\n",
    "scikit-qulacs では代表的な論文で発表されている機械学習用量子回路を手軽に使えるようにするため、量子回路の実装に努めています。機械学習用量子回路は `LearningCircuit` クラスのインスタンスとして実装されていて、`skqulacs.circuit` モジュールにある `create_...()` という関数を呼ぶことにより作成可能です。\n",
    "\n",
    "代表的なansatzとして、\n",
    "- create_farhi_neven_ansatz(n_qubit: int, c_depth: int, seed: Optional[int] = None): [arXiv:1802.06002](https://arxiv.org/pdf/1802.06002)\n",
    "- create_ibm_embedding_circuit(n_qubit: int): [arXiv:1804.11326](https://arxiv.org/abs/1804.11326) \n",
    "\n",
    "が用意されています。\n",
    "\n",
    "他に利用可能な量子回路のリストについては[このページ](circuit_visualize.ipynb)をご覧ください。\n",
    "\n",
    "基本的には `QNNClassifier` などの引数として与えることを推奨しますが、自前で新たなアルゴリズムを作りたいときなど、これらの量子回路を直接扱いたいときもあると思います。以下に使用例を掲載します。\n",
    "\n",
    "以下のコードで QCL ansatz を作成します。"
   ]
  },
  {
   "cell_type": "code",
   "execution_count": 13,
   "metadata": {},
   "outputs": [],
   "source": [
    "n_qubits = 4\n",
    "c_depth = 4\n",
    "time_step = 1.\n",
    "ansatz = create_qcl_ansatz(n_qubits, c_depth, time_step)"
   ]
  },
  {
   "cell_type": "markdown",
   "metadata": {},
   "source": [
    "`LearningCircuit` にセットされている訓練パラメータは `get_parameters()` によって取り出せます。"
   ]
  },
  {
   "cell_type": "code",
   "execution_count": 14,
   "metadata": {},
   "outputs": [
    {
     "name": "stdout",
     "output_type": "stream",
     "text": [
      "48 [0.7238575654756965, 4.521772018945494, 5.300166829620294, 2.4396786706992875, 3.372497641445515, 0.0691143830945458, 2.4305919508432194, 0.897581496914585, 0.8153164989629146, 4.19580716083789, 4.614797622397918, 2.951713965321396, 2.449149087341643, 2.4619419636304105, 1.0029754525418129, 2.334478387370933, 2.5589036813723762, 4.50591651911791, 4.486222509952132, 1.559585289816079, 6.164351024607971, 1.47322926380012, 2.0729721326039914, 2.275646680431729, 2.9195023453638385, 2.7015553984398526, 5.814853292230643, 5.161654841481886, 0.7527848104233957, 1.728308187107492, 5.360006969176836, 5.201498343709625, 0.42675480228093243, 1.967788806417369, 1.7897854085117577, 5.321631318940725, 5.6122834079775785, 5.437876706508988, 2.4878547042811134, 3.796733572414534, 0.9677624343101473, 1.8208670050419042, 0.4657427370080585, 5.820313505901443, 1.2863802672251754, 2.4653914032427604, 0.3882421258541333, 1.4073421893586033]\n"
     ]
    }
   ],
   "source": [
    "parameters = ansatz.get_parameters()\n",
    "print(len(parameters), parameters)      # show parameters in the circuit. Parameters are chosen randomly within create_qcl_ansatz()"
   ]
  },
  {
   "cell_type": "markdown",
   "metadata": {},
   "source": [
    "`update_parameters()` を使うと、パラメータを更新できます。以下では全てのパラメータをゼロにセットします。"
   ]
  },
  {
   "cell_type": "code",
   "execution_count": 15,
   "metadata": {},
   "outputs": [
    {
     "name": "stdout",
     "output_type": "stream",
     "text": [
      "[0.0, 0.0, 0.0, 0.0, 0.0, 0.0, 0.0, 0.0, 0.0, 0.0, 0.0, 0.0, 0.0, 0.0, 0.0, 0.0, 0.0, 0.0, 0.0, 0.0, 0.0, 0.0, 0.0, 0.0, 0.0, 0.0, 0.0, 0.0, 0.0, 0.0, 0.0, 0.0, 0.0, 0.0, 0.0, 0.0, 0.0, 0.0, 0.0, 0.0, 0.0, 0.0, 0.0, 0.0, 0.0, 0.0, 0.0, 0.0]\n"
     ]
    }
   ],
   "source": [
    "ansatz.update_parameters(np.zeros(len(parameters)))\n",
    "print(ansatz.get_parameters())"
   ]
  },
  {
   "cell_type": "markdown",
   "metadata": {},
   "source": [
    "`run(x)` を使うと、入力データ ${\\boldsymbol x}$ に対して、初期状態 $|0\\rangle$ に量子回路を作用させたときの出力状態が `qulacs.QuantumState` として返されます。QCL ansatz は `n_qubits` 次元までの入力を扱うことのできる ansatz なので、今回は 2 次元入力を与えます。\n",
    "\n",
    "多くの回路では、データ次元数をaとして、それが`n_qubits`以下の場合、回路のx番目には、n_qubits % a 番目の入力が入ります。"
   ]
  },
  {
   "cell_type": "code",
   "execution_count": 16,
   "metadata": {},
   "outputs": [
    {
     "name": "stdout",
     "output_type": "stream",
     "text": [
      "[ 0.30869612+0.13283004j -0.0759879 -0.06176279j -0.21316566-0.1438611j\n",
      "  0.21877642+0.06614673j -0.33638863+0.12504632j  0.24610584+0.23178805j\n",
      "  0.05948781+0.05711437j  0.03556247-0.08914448j  0.03556247-0.08914448j\n",
      "  0.05948781+0.05711437j  0.24610584+0.23178805j -0.33638863+0.12504632j\n",
      "  0.21877642+0.06614673j -0.21316566-0.1438611j  -0.0759879 -0.06176279j\n",
      "  0.30869612+0.13283004j]\n"
     ]
    }
   ],
   "source": [
    "state = ansatz.run([np.pi/2, np.pi/2])\n",
    "print(state.get_vector())"
   ]
  },
  {
   "cell_type": "markdown",
   "metadata": {},
   "source": [
    "[qulacs-visualizer](https://github.com/Qulacs-Osaka/qulacs-visualizer)を使用することで、量子回路を可視化することができます。\n",
    "\n",
    "ここでは代表的な ansatz として `ibmq_embedding_circuit` と `farhi_neven_ansatz` の可視化を行います。\n",
    "他に利用可能な量子回路のリストについてはこのページを見てください"
   ]
  },
  {
   "cell_type": "code",
   "execution_count": 1,
   "metadata": {},
   "outputs": [
    {
     "data": {
      "image/png": "[encoded data removed]",
      "text/plain": [
       "<PIL.PngImagePlugin.PngImageFile image mode=RGB size=2000x163 at 0x7F6F1BB665B0>"
      ]
     },
     "execution_count": 1,
     "metadata": {},
     "output_type": "execute_result"
    }
   ],
   "source": [
    "from qulacsvis import circuit_drawer\n",
    "from skqulacs.circuit.pre_defined import create_ibm_embedding_circuit\n",
    "\n",
    "n_qubit = 4\n",
    "circuit = create_ibm_embedding_circuit(n_qubit)\n",
    "circuit_drawer(circuit._circuit,\"latex\")"
   ]
  },
  {
   "cell_type": "code",
   "execution_count": 2,
   "metadata": {},
   "outputs": [
    {
     "data": {
      "image/png": "[encoded data removed]",
      "text/plain": [
       "<PIL.PngImagePlugin.PngImageFile image mode=RGB size=1969x163 at 0x7F6F490E8F70>"
      ]
     },
     "execution_count": 2,
     "metadata": {},
     "output_type": "execute_result"
    }
   ],
   "source": [
    "from skqulacs.circuit.pre_defined import create_farhi_neven_ansatz\n",
    "\n",
    "n_qubit = 4\n",
    "c_depth = 2\n",
    "ansatz = create_farhi_neven_ansatz(n_qubit, c_depth)\n",
    "circuit_drawer(ansatz._circuit,\"latex\")"
   ]
  },
  {
   "cell_type": "markdown",
   "metadata": {},
   "source": [
    "## ユーザー定義の量子回路を学習に利用する\n",
    "ここでは自分でオリジナルの量子回路を定義し、それを学習に利用する方法を説明します。scikit-qulacs では、`LearningCircuit` クラスによって量子回路を表現しています。これは qulacs の `ParametricQuantumCircuit` のラッパーとなっていて、入力データと訓練される回路パラメータを一元管理し、それらをすべて qulacs の parametric gate で扱えるようにしたものです。\n",
    "\n",
    "`LearningCircuit` クラスは qulacs の `ParametricQuantumCircuit` のうちの主要な `add_.._gate()` 系のメソッドを機能そのままにラップしています。それに加えて、`ParametricQuantumCircuit` を拡張する機能として、以下のメソッドが追加されています。\n",
    "\n",
    "- `add_input_RX_gate(index, input_func)`, `add_input_RY_gate(index, input_func)`, `add_input_RZ_gate(index, input_func)`: 入力データを入れるためのゲートを追加します。引数にはそれぞれ以下のものを与えます。\n",
    "    - `index`: そのゲートを作用させる量子ビット\n",
    "    - `input_func`: 入力データ ${\\boldsymbol x}$ -> 回転ゲートの回転角 $\\phi = \\phi({\\boldsymbol x})$ の変換を行う関数。回路実行時には `input_func(x)` が角度にセットされます。\n",
    "- `add_parametric_input_RX_gate(index, parameter, input_func)` (RY, RZ も同様) :入力データと訓練パラメータが同時に含まれているようなゲートを追加します。\n",
    "    - `index`: そのゲートを作用させる量子ビット\n",
    "    - `parameter`: 実数の訓練パラメータ $\\theta$\n",
    "    - `input_func`: 入力データ ${\\boldsymbol x}$, 訓練パラメータ $\\theta$ -> 回転ゲートの回転角 $\\phi = \\phi(\\theta, {\\boldsymbol x})$ の変換を行う関数。回路実行時には `input_func(theta, x)` が角度にセットされます。\n",
    "\n",
    "例えば以下のコードは、各量子ビットに ${\\boldsymbol x} = \\{x_i\\}_{i=0}^3$ の各成分を $R_y$ ゲートで入力したあと、各量子ビットを訓練可能な $R_y$ ゲートで変換し、最後に全ての量子ビットにアダマールゲートを一度だけ作用させる `LearningCircuit` を構成するコードです。(例のためだけに書いていて、特に意味は無い回路です。) "
   ]
  },
  {
   "cell_type": "code",
   "execution_count": 17,
   "metadata": {},
   "outputs": [],
   "source": [
    "from skqulacs.circuit import LearningCircuit\n",
    "n_qubit = 4\n",
    "circuit = LearningCircuit(n_qubit)\n",
    "for i in range(n_qubit):\n",
    "    circuit.add_input_RY_gate(i, lambda x: x[i%2])  # input 2 dimensional x into the circuit by RY rotation\n",
    "for i in range(n_qubit):\n",
    "    circuit.add_parametric_RY_gate(i, 0.)           # first argument is qubit index, second argument is parameter\n",
    "for i in range(n_qubit):\n",
    "    circuit.add_H_gate(i)"
   ]
  },
  {
   "cell_type": "markdown",
   "metadata": {},
   "source": [
    "`run()` メソッドによって初期状態 $|0\\rangle$ にこの回路を作用させたときの量子状態が返されます。このメソッドは入力データ ${\\boldsymbol x}$ を引数として取ります。上の回路は 2 次元の ${\\boldsymbol x}$ を取れるように設計したので、2次元の入力を与えます。"
   ]
  },
  {
   "cell_type": "code",
   "execution_count": 18,
   "metadata": {},
   "outputs": [
    {
     "name": "stdout",
     "output_type": "stream",
     "text": [
      "[-6.93889390e-18+0.j -1.96261557e-17+0.j -2.08166817e-17+0.j\n",
      " -2.77555756e-17+0.j -2.08166817e-17+0.j  1.96261557e-17+0.j\n",
      " -6.93889390e-18+0.j  0.00000000e+00+0.j -2.08166817e-17+0.j\n",
      "  1.96261557e-17+0.j -6.93889390e-18+0.j  2.77555756e-17+0.j\n",
      " -6.93889390e-18+0.j  5.88784672e-17+0.j  9.02056208e-17+0.j\n",
      "  1.00000000e+00+0.j]\n"
     ]
    }
   ],
   "source": [
    "x = [np.pi/2,np.pi/2]\n",
    "state = circuit.run(x)\n",
    "print(state.get_vector())"
   ]
  },
  {
   "cell_type": "markdown",
   "metadata": {},
   "source": [
    "予想どおりの出力が得られることが確認できます。"
   ]
  }
 ],
 "metadata": {
  "interpreter": {
   "hash": "9a254056ba7bb2d506825dd7a222ffa8b49c259e89497b09ec821585fc31e38d"
  },
  "kernelspec": {
   "display_name": "Python 3",
   "language": "python",
   "name": "python3"
  },
  "language_info": {
   "codemirror_mode": {
    "name": "ipython",
    "version": 3
   },
   "file_extension": ".py",
   "mimetype": "text/x-python",
   "name": "python",
   "nbconvert_exporter": "python",
   "pygments_lexer": "ipython3",
   "version": "3.8.10"
  }
 },
 "nbformat": 4,
 "nbformat_minor": 2
}
